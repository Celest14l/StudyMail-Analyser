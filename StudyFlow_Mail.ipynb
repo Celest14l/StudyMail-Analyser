{
  "nbformat": 4,
  "nbformat_minor": 0,
  "metadata": {
    "colab": {
      "provenance": [],
      "toc_visible": true,
      "authorship_tag": "ABX9TyOmYHvvnyQzEr1WD062TeIS",
      "include_colab_link": true
    },
    "kernelspec": {
      "name": "python3",
      "display_name": "Python 3"
    },
    "language_info": {
      "name": "python"
    },
    "widgets": {
      "application/vnd.jupyter.widget-state+json": {
        "2dae666d54fc4db2bbd843b281bcc97c": {
          "model_module": "@jupyter-widgets/controls",
          "model_name": "HBoxModel",
          "model_module_version": "1.5.0",
          "state": {
            "_dom_classes": [],
            "_model_module": "@jupyter-widgets/controls",
            "_model_module_version": "1.5.0",
            "_model_name": "HBoxModel",
            "_view_count": null,
            "_view_module": "@jupyter-widgets/controls",
            "_view_module_version": "1.5.0",
            "_view_name": "HBoxView",
            "box_style": "",
            "children": [
              "IPY_MODEL_5bc35fb6fa744e72ba77c51149db42d4",
              "IPY_MODEL_96b9a4df275c4647bda4870aed0d237d",
              "IPY_MODEL_4c9e076ffdf241d48d5ffa88a113074f"
            ],
            "layout": "IPY_MODEL_6b770185c044414488fc8c5fb5c4c739"
          }
        },
        "5bc35fb6fa744e72ba77c51149db42d4": {
          "model_module": "@jupyter-widgets/controls",
          "model_name": "HTMLModel",
          "model_module_version": "1.5.0",
          "state": {
            "_dom_classes": [],
            "_model_module": "@jupyter-widgets/controls",
            "_model_module_version": "1.5.0",
            "_model_name": "HTMLModel",
            "_view_count": null,
            "_view_module": "@jupyter-widgets/controls",
            "_view_module_version": "1.5.0",
            "_view_name": "HTMLView",
            "description": "",
            "description_tooltip": null,
            "layout": "IPY_MODEL_3ce8623ae5b74642a6fbcae5e1c3eee4",
            "placeholder": "​",
            "style": "IPY_MODEL_3a353953cef547aeb87402ae06e1035e",
            "value": "Generating train split: "
          }
        },
        "96b9a4df275c4647bda4870aed0d237d": {
          "model_module": "@jupyter-widgets/controls",
          "model_name": "FloatProgressModel",
          "model_module_version": "1.5.0",
          "state": {
            "_dom_classes": [],
            "_model_module": "@jupyter-widgets/controls",
            "_model_module_version": "1.5.0",
            "_model_name": "FloatProgressModel",
            "_view_count": null,
            "_view_module": "@jupyter-widgets/controls",
            "_view_module_version": "1.5.0",
            "_view_name": "ProgressView",
            "bar_style": "success",
            "description": "",
            "description_tooltip": null,
            "layout": "IPY_MODEL_113d30b95ed240cd835fe8fdd6e58bb8",
            "max": 1,
            "min": 0,
            "orientation": "horizontal",
            "style": "IPY_MODEL_332b8bb73bf94c758678bd19b30296c0",
            "value": 1
          }
        },
        "4c9e076ffdf241d48d5ffa88a113074f": {
          "model_module": "@jupyter-widgets/controls",
          "model_name": "HTMLModel",
          "model_module_version": "1.5.0",
          "state": {
            "_dom_classes": [],
            "_model_module": "@jupyter-widgets/controls",
            "_model_module_version": "1.5.0",
            "_model_name": "HTMLModel",
            "_view_count": null,
            "_view_module": "@jupyter-widgets/controls",
            "_view_module_version": "1.5.0",
            "_view_name": "HTMLView",
            "description": "",
            "description_tooltip": null,
            "layout": "IPY_MODEL_0f81d753656f4a1faf39ccb4e46d8e1f",
            "placeholder": "​",
            "style": "IPY_MODEL_09f1ee9725bd43309b66e9ae4b7cc24c",
            "value": " 2/0 [00:00&lt;00:00, 24.29 examples/s]"
          }
        },
        "6b770185c044414488fc8c5fb5c4c739": {
          "model_module": "@jupyter-widgets/base",
          "model_name": "LayoutModel",
          "model_module_version": "1.2.0",
          "state": {
            "_model_module": "@jupyter-widgets/base",
            "_model_module_version": "1.2.0",
            "_model_name": "LayoutModel",
            "_view_count": null,
            "_view_module": "@jupyter-widgets/base",
            "_view_module_version": "1.2.0",
            "_view_name": "LayoutView",
            "align_content": null,
            "align_items": null,
            "align_self": null,
            "border": null,
            "bottom": null,
            "display": null,
            "flex": null,
            "flex_flow": null,
            "grid_area": null,
            "grid_auto_columns": null,
            "grid_auto_flow": null,
            "grid_auto_rows": null,
            "grid_column": null,
            "grid_gap": null,
            "grid_row": null,
            "grid_template_areas": null,
            "grid_template_columns": null,
            "grid_template_rows": null,
            "height": null,
            "justify_content": null,
            "justify_items": null,
            "left": null,
            "margin": null,
            "max_height": null,
            "max_width": null,
            "min_height": null,
            "min_width": null,
            "object_fit": null,
            "object_position": null,
            "order": null,
            "overflow": null,
            "overflow_x": null,
            "overflow_y": null,
            "padding": null,
            "right": null,
            "top": null,
            "visibility": null,
            "width": null
          }
        },
        "3ce8623ae5b74642a6fbcae5e1c3eee4": {
          "model_module": "@jupyter-widgets/base",
          "model_name": "LayoutModel",
          "model_module_version": "1.2.0",
          "state": {
            "_model_module": "@jupyter-widgets/base",
            "_model_module_version": "1.2.0",
            "_model_name": "LayoutModel",
            "_view_count": null,
            "_view_module": "@jupyter-widgets/base",
            "_view_module_version": "1.2.0",
            "_view_name": "LayoutView",
            "align_content": null,
            "align_items": null,
            "align_self": null,
            "border": null,
            "bottom": null,
            "display": null,
            "flex": null,
            "flex_flow": null,
            "grid_area": null,
            "grid_auto_columns": null,
            "grid_auto_flow": null,
            "grid_auto_rows": null,
            "grid_column": null,
            "grid_gap": null,
            "grid_row": null,
            "grid_template_areas": null,
            "grid_template_columns": null,
            "grid_template_rows": null,
            "height": null,
            "justify_content": null,
            "justify_items": null,
            "left": null,
            "margin": null,
            "max_height": null,
            "max_width": null,
            "min_height": null,
            "min_width": null,
            "object_fit": null,
            "object_position": null,
            "order": null,
            "overflow": null,
            "overflow_x": null,
            "overflow_y": null,
            "padding": null,
            "right": null,
            "top": null,
            "visibility": null,
            "width": null
          }
        },
        "3a353953cef547aeb87402ae06e1035e": {
          "model_module": "@jupyter-widgets/controls",
          "model_name": "DescriptionStyleModel",
          "model_module_version": "1.5.0",
          "state": {
            "_model_module": "@jupyter-widgets/controls",
            "_model_module_version": "1.5.0",
            "_model_name": "DescriptionStyleModel",
            "_view_count": null,
            "_view_module": "@jupyter-widgets/base",
            "_view_module_version": "1.2.0",
            "_view_name": "StyleView",
            "description_width": ""
          }
        },
        "113d30b95ed240cd835fe8fdd6e58bb8": {
          "model_module": "@jupyter-widgets/base",
          "model_name": "LayoutModel",
          "model_module_version": "1.2.0",
          "state": {
            "_model_module": "@jupyter-widgets/base",
            "_model_module_version": "1.2.0",
            "_model_name": "LayoutModel",
            "_view_count": null,
            "_view_module": "@jupyter-widgets/base",
            "_view_module_version": "1.2.0",
            "_view_name": "LayoutView",
            "align_content": null,
            "align_items": null,
            "align_self": null,
            "border": null,
            "bottom": null,
            "display": null,
            "flex": null,
            "flex_flow": null,
            "grid_area": null,
            "grid_auto_columns": null,
            "grid_auto_flow": null,
            "grid_auto_rows": null,
            "grid_column": null,
            "grid_gap": null,
            "grid_row": null,
            "grid_template_areas": null,
            "grid_template_columns": null,
            "grid_template_rows": null,
            "height": null,
            "justify_content": null,
            "justify_items": null,
            "left": null,
            "margin": null,
            "max_height": null,
            "max_width": null,
            "min_height": null,
            "min_width": null,
            "object_fit": null,
            "object_position": null,
            "order": null,
            "overflow": null,
            "overflow_x": null,
            "overflow_y": null,
            "padding": null,
            "right": null,
            "top": null,
            "visibility": null,
            "width": "20px"
          }
        },
        "332b8bb73bf94c758678bd19b30296c0": {
          "model_module": "@jupyter-widgets/controls",
          "model_name": "ProgressStyleModel",
          "model_module_version": "1.5.0",
          "state": {
            "_model_module": "@jupyter-widgets/controls",
            "_model_module_version": "1.5.0",
            "_model_name": "ProgressStyleModel",
            "_view_count": null,
            "_view_module": "@jupyter-widgets/base",
            "_view_module_version": "1.2.0",
            "_view_name": "StyleView",
            "bar_color": null,
            "description_width": ""
          }
        },
        "0f81d753656f4a1faf39ccb4e46d8e1f": {
          "model_module": "@jupyter-widgets/base",
          "model_name": "LayoutModel",
          "model_module_version": "1.2.0",
          "state": {
            "_model_module": "@jupyter-widgets/base",
            "_model_module_version": "1.2.0",
            "_model_name": "LayoutModel",
            "_view_count": null,
            "_view_module": "@jupyter-widgets/base",
            "_view_module_version": "1.2.0",
            "_view_name": "LayoutView",
            "align_content": null,
            "align_items": null,
            "align_self": null,
            "border": null,
            "bottom": null,
            "display": null,
            "flex": null,
            "flex_flow": null,
            "grid_area": null,
            "grid_auto_columns": null,
            "grid_auto_flow": null,
            "grid_auto_rows": null,
            "grid_column": null,
            "grid_gap": null,
            "grid_row": null,
            "grid_template_areas": null,
            "grid_template_columns": null,
            "grid_template_rows": null,
            "height": null,
            "justify_content": null,
            "justify_items": null,
            "left": null,
            "margin": null,
            "max_height": null,
            "max_width": null,
            "min_height": null,
            "min_width": null,
            "object_fit": null,
            "object_position": null,
            "order": null,
            "overflow": null,
            "overflow_x": null,
            "overflow_y": null,
            "padding": null,
            "right": null,
            "top": null,
            "visibility": null,
            "width": null
          }
        },
        "09f1ee9725bd43309b66e9ae4b7cc24c": {
          "model_module": "@jupyter-widgets/controls",
          "model_name": "DescriptionStyleModel",
          "model_module_version": "1.5.0",
          "state": {
            "_model_module": "@jupyter-widgets/controls",
            "_model_module_version": "1.5.0",
            "_model_name": "DescriptionStyleModel",
            "_view_count": null,
            "_view_module": "@jupyter-widgets/base",
            "_view_module_version": "1.2.0",
            "_view_name": "StyleView",
            "description_width": ""
          }
        },
        "34d1e70fac904331b364bf5e4ce361c6": {
          "model_module": "@jupyter-widgets/controls",
          "model_name": "HBoxModel",
          "model_module_version": "1.5.0",
          "state": {
            "_dom_classes": [],
            "_model_module": "@jupyter-widgets/controls",
            "_model_module_version": "1.5.0",
            "_model_name": "HBoxModel",
            "_view_count": null,
            "_view_module": "@jupyter-widgets/controls",
            "_view_module_version": "1.5.0",
            "_view_name": "HBoxView",
            "box_style": "",
            "children": [
              "IPY_MODEL_817093e15f8546f2a3ba0e1e5e5801c4",
              "IPY_MODEL_0391f4cca20d4aafbdf6a13e66f79cda",
              "IPY_MODEL_3bb3666939c44220a56955564bed1871"
            ],
            "layout": "IPY_MODEL_a4c493f935214e76897efda8e3098368"
          }
        },
        "817093e15f8546f2a3ba0e1e5e5801c4": {
          "model_module": "@jupyter-widgets/controls",
          "model_name": "HTMLModel",
          "model_module_version": "1.5.0",
          "state": {
            "_dom_classes": [],
            "_model_module": "@jupyter-widgets/controls",
            "_model_module_version": "1.5.0",
            "_model_name": "HTMLModel",
            "_view_count": null,
            "_view_module": "@jupyter-widgets/controls",
            "_view_module_version": "1.5.0",
            "_view_name": "HTMLView",
            "description": "",
            "description_tooltip": null,
            "layout": "IPY_MODEL_67db9dfabbdb4dedab36070022337cb7",
            "placeholder": "​",
            "style": "IPY_MODEL_f1fd81d1880a4313ac706e7d8549e5db",
            "value": "Generating test split: "
          }
        },
        "0391f4cca20d4aafbdf6a13e66f79cda": {
          "model_module": "@jupyter-widgets/controls",
          "model_name": "FloatProgressModel",
          "model_module_version": "1.5.0",
          "state": {
            "_dom_classes": [],
            "_model_module": "@jupyter-widgets/controls",
            "_model_module_version": "1.5.0",
            "_model_name": "FloatProgressModel",
            "_view_count": null,
            "_view_module": "@jupyter-widgets/controls",
            "_view_module_version": "1.5.0",
            "_view_name": "ProgressView",
            "bar_style": "success",
            "description": "",
            "description_tooltip": null,
            "layout": "IPY_MODEL_d40d3acd8cc14c39800c466f5507db53",
            "max": 1,
            "min": 0,
            "orientation": "horizontal",
            "style": "IPY_MODEL_e6957c8c5d4b4aa794283e30d4c4641c",
            "value": 1
          }
        },
        "3bb3666939c44220a56955564bed1871": {
          "model_module": "@jupyter-widgets/controls",
          "model_name": "HTMLModel",
          "model_module_version": "1.5.0",
          "state": {
            "_dom_classes": [],
            "_model_module": "@jupyter-widgets/controls",
            "_model_module_version": "1.5.0",
            "_model_name": "HTMLModel",
            "_view_count": null,
            "_view_module": "@jupyter-widgets/controls",
            "_view_module_version": "1.5.0",
            "_view_name": "HTMLView",
            "description": "",
            "description_tooltip": null,
            "layout": "IPY_MODEL_b22352e153cb4163bab1240230fcf182",
            "placeholder": "​",
            "style": "IPY_MODEL_6ac845cb98354be89711b86684cbe991",
            "value": " 2/0 [00:00&lt;00:00, 16.38 examples/s]"
          }
        },
        "a4c493f935214e76897efda8e3098368": {
          "model_module": "@jupyter-widgets/base",
          "model_name": "LayoutModel",
          "model_module_version": "1.2.0",
          "state": {
            "_model_module": "@jupyter-widgets/base",
            "_model_module_version": "1.2.0",
            "_model_name": "LayoutModel",
            "_view_count": null,
            "_view_module": "@jupyter-widgets/base",
            "_view_module_version": "1.2.0",
            "_view_name": "LayoutView",
            "align_content": null,
            "align_items": null,
            "align_self": null,
            "border": null,
            "bottom": null,
            "display": null,
            "flex": null,
            "flex_flow": null,
            "grid_area": null,
            "grid_auto_columns": null,
            "grid_auto_flow": null,
            "grid_auto_rows": null,
            "grid_column": null,
            "grid_gap": null,
            "grid_row": null,
            "grid_template_areas": null,
            "grid_template_columns": null,
            "grid_template_rows": null,
            "height": null,
            "justify_content": null,
            "justify_items": null,
            "left": null,
            "margin": null,
            "max_height": null,
            "max_width": null,
            "min_height": null,
            "min_width": null,
            "object_fit": null,
            "object_position": null,
            "order": null,
            "overflow": null,
            "overflow_x": null,
            "overflow_y": null,
            "padding": null,
            "right": null,
            "top": null,
            "visibility": null,
            "width": null
          }
        },
        "67db9dfabbdb4dedab36070022337cb7": {
          "model_module": "@jupyter-widgets/base",
          "model_name": "LayoutModel",
          "model_module_version": "1.2.0",
          "state": {
            "_model_module": "@jupyter-widgets/base",
            "_model_module_version": "1.2.0",
            "_model_name": "LayoutModel",
            "_view_count": null,
            "_view_module": "@jupyter-widgets/base",
            "_view_module_version": "1.2.0",
            "_view_name": "LayoutView",
            "align_content": null,
            "align_items": null,
            "align_self": null,
            "border": null,
            "bottom": null,
            "display": null,
            "flex": null,
            "flex_flow": null,
            "grid_area": null,
            "grid_auto_columns": null,
            "grid_auto_flow": null,
            "grid_auto_rows": null,
            "grid_column": null,
            "grid_gap": null,
            "grid_row": null,
            "grid_template_areas": null,
            "grid_template_columns": null,
            "grid_template_rows": null,
            "height": null,
            "justify_content": null,
            "justify_items": null,
            "left": null,
            "margin": null,
            "max_height": null,
            "max_width": null,
            "min_height": null,
            "min_width": null,
            "object_fit": null,
            "object_position": null,
            "order": null,
            "overflow": null,
            "overflow_x": null,
            "overflow_y": null,
            "padding": null,
            "right": null,
            "top": null,
            "visibility": null,
            "width": null
          }
        },
        "f1fd81d1880a4313ac706e7d8549e5db": {
          "model_module": "@jupyter-widgets/controls",
          "model_name": "DescriptionStyleModel",
          "model_module_version": "1.5.0",
          "state": {
            "_model_module": "@jupyter-widgets/controls",
            "_model_module_version": "1.5.0",
            "_model_name": "DescriptionStyleModel",
            "_view_count": null,
            "_view_module": "@jupyter-widgets/base",
            "_view_module_version": "1.2.0",
            "_view_name": "StyleView",
            "description_width": ""
          }
        },
        "d40d3acd8cc14c39800c466f5507db53": {
          "model_module": "@jupyter-widgets/base",
          "model_name": "LayoutModel",
          "model_module_version": "1.2.0",
          "state": {
            "_model_module": "@jupyter-widgets/base",
            "_model_module_version": "1.2.0",
            "_model_name": "LayoutModel",
            "_view_count": null,
            "_view_module": "@jupyter-widgets/base",
            "_view_module_version": "1.2.0",
            "_view_name": "LayoutView",
            "align_content": null,
            "align_items": null,
            "align_self": null,
            "border": null,
            "bottom": null,
            "display": null,
            "flex": null,
            "flex_flow": null,
            "grid_area": null,
            "grid_auto_columns": null,
            "grid_auto_flow": null,
            "grid_auto_rows": null,
            "grid_column": null,
            "grid_gap": null,
            "grid_row": null,
            "grid_template_areas": null,
            "grid_template_columns": null,
            "grid_template_rows": null,
            "height": null,
            "justify_content": null,
            "justify_items": null,
            "left": null,
            "margin": null,
            "max_height": null,
            "max_width": null,
            "min_height": null,
            "min_width": null,
            "object_fit": null,
            "object_position": null,
            "order": null,
            "overflow": null,
            "overflow_x": null,
            "overflow_y": null,
            "padding": null,
            "right": null,
            "top": null,
            "visibility": null,
            "width": "20px"
          }
        },
        "e6957c8c5d4b4aa794283e30d4c4641c": {
          "model_module": "@jupyter-widgets/controls",
          "model_name": "ProgressStyleModel",
          "model_module_version": "1.5.0",
          "state": {
            "_model_module": "@jupyter-widgets/controls",
            "_model_module_version": "1.5.0",
            "_model_name": "ProgressStyleModel",
            "_view_count": null,
            "_view_module": "@jupyter-widgets/base",
            "_view_module_version": "1.2.0",
            "_view_name": "StyleView",
            "bar_color": null,
            "description_width": ""
          }
        },
        "b22352e153cb4163bab1240230fcf182": {
          "model_module": "@jupyter-widgets/base",
          "model_name": "LayoutModel",
          "model_module_version": "1.2.0",
          "state": {
            "_model_module": "@jupyter-widgets/base",
            "_model_module_version": "1.2.0",
            "_model_name": "LayoutModel",
            "_view_count": null,
            "_view_module": "@jupyter-widgets/base",
            "_view_module_version": "1.2.0",
            "_view_name": "LayoutView",
            "align_content": null,
            "align_items": null,
            "align_self": null,
            "border": null,
            "bottom": null,
            "display": null,
            "flex": null,
            "flex_flow": null,
            "grid_area": null,
            "grid_auto_columns": null,
            "grid_auto_flow": null,
            "grid_auto_rows": null,
            "grid_column": null,
            "grid_gap": null,
            "grid_row": null,
            "grid_template_areas": null,
            "grid_template_columns": null,
            "grid_template_rows": null,
            "height": null,
            "justify_content": null,
            "justify_items": null,
            "left": null,
            "margin": null,
            "max_height": null,
            "max_width": null,
            "min_height": null,
            "min_width": null,
            "object_fit": null,
            "object_position": null,
            "order": null,
            "overflow": null,
            "overflow_x": null,
            "overflow_y": null,
            "padding": null,
            "right": null,
            "top": null,
            "visibility": null,
            "width": null
          }
        },
        "6ac845cb98354be89711b86684cbe991": {
          "model_module": "@jupyter-widgets/controls",
          "model_name": "DescriptionStyleModel",
          "model_module_version": "1.5.0",
          "state": {
            "_model_module": "@jupyter-widgets/controls",
            "_model_module_version": "1.5.0",
            "_model_name": "DescriptionStyleModel",
            "_view_count": null,
            "_view_module": "@jupyter-widgets/base",
            "_view_module_version": "1.2.0",
            "_view_name": "StyleView",
            "description_width": ""
          }
        }
      }
    }
  },
  "cells": [
    {
      "cell_type": "markdown",
      "metadata": {
        "id": "view-in-github",
        "colab_type": "text"
      },
      "source": [
        "<a href=\"https://colab.research.google.com/github/Celest14l/StudyMail-Analyser/blob/main/StudyFlow_Mail.ipynb\" target=\"_parent\"><img src=\"https://colab.research.google.com/assets/colab-badge.svg\" alt=\"Open In Colab\"/></a>"
      ]
    },
    {
      "cell_type": "markdown",
      "source": [
        "# Importing Libraries"
      ],
      "metadata": {
        "id": "wDDVHskQwLqM"
      }
    },
    {
      "cell_type": "code",
      "source": [
        "!pip install click\n",
        "!pip install joblib\n",
        "!pip install regex\n",
        "!pip install tqdm\n",
        "!pip install nltk==3.8.1"
      ],
      "metadata": {
        "colab": {
          "base_uri": "https://localhost:8080/"
        },
        "id": "croho2Euw_9E",
        "outputId": "58038cdf-c51f-4dce-fac9-b06cf948c33b"
      },
      "execution_count": null,
      "outputs": [
        {
          "output_type": "stream",
          "name": "stdout",
          "text": [
            "Requirement already satisfied: click in /usr/local/lib/python3.10/dist-packages (8.1.7)\n",
            "Requirement already satisfied: joblib in /usr/local/lib/python3.10/dist-packages (1.4.2)\n",
            "Requirement already satisfied: regex in /usr/local/lib/python3.10/dist-packages (2024.9.11)\n",
            "Requirement already satisfied: tqdm in /usr/local/lib/python3.10/dist-packages (4.66.6)\n",
            "Collecting nltk==3.8.1\n",
            "  Downloading nltk-3.8.1-py3-none-any.whl.metadata (2.8 kB)\n",
            "Requirement already satisfied: click in /usr/local/lib/python3.10/dist-packages (from nltk==3.8.1) (8.1.7)\n",
            "Requirement already satisfied: joblib in /usr/local/lib/python3.10/dist-packages (from nltk==3.8.1) (1.4.2)\n",
            "Requirement already satisfied: regex>=2021.8.3 in /usr/local/lib/python3.10/dist-packages (from nltk==3.8.1) (2024.9.11)\n",
            "Requirement already satisfied: tqdm in /usr/local/lib/python3.10/dist-packages (from nltk==3.8.1) (4.66.6)\n",
            "Downloading nltk-3.8.1-py3-none-any.whl (1.5 MB)\n",
            "\u001b[2K   \u001b[90m━━━━━━━━━━━━━━━━━━━━━━━━━━━━━━━━━━━━━━━━\u001b[0m \u001b[32m1.5/1.5 MB\u001b[0m \u001b[31m14.9 MB/s\u001b[0m eta \u001b[36m0:00:00\u001b[0m\n",
            "\u001b[?25hInstalling collected packages: nltk\n",
            "  Attempting uninstall: nltk\n",
            "    Found existing installation: nltk 3.9.1\n",
            "    Uninstalling nltk-3.9.1:\n",
            "      Successfully uninstalled nltk-3.9.1\n",
            "Successfully installed nltk-3.8.1\n"
          ]
        }
      ]
    },
    {
      "cell_type": "code",
      "execution_count": null,
      "metadata": {
        "id": "LEc02nG9uWA5"
      },
      "outputs": [],
      "source": [
        "import imaplib\n",
        "import email\n",
        "from email.header import decode_header\n",
        "import nltk\n",
        "from nltk.corpus import stopwords\n",
        "import re\n"
      ]
    },
    {
      "cell_type": "markdown",
      "source": [
        "# Connecting to email account"
      ],
      "metadata": {
        "id": "mR6W03zPwWIR"
      }
    },
    {
      "cell_type": "code",
      "source": [
        "# Gmail IMAP server details\n",
        "imap_host = \"imap.gmail.com\"\n",
        "email_user = \"Your Email\"  # Replace with your email\n",
        "email_pass = \"Your App Password\"  # Use your Gmail app password, not the account password, go to google setting search app password then create a app password\n",
        "\n",
        "# Connect to the server\n",
        "mail = imaplib.IMAP4_SSL(imap_host)\n",
        "\n",
        "# Log in to the email account\n",
        "mail.login(email_user, email_pass)\n"
      ],
      "metadata": {
        "colab": {
          "base_uri": "https://localhost:8080/"
        },
        "id": "vhwULe08wbVb",
        "outputId": "5ec24ea9-b389-418e-98cb-c41096cadf44"
      },
      "execution_count": null,
      "outputs": [
        {
          "output_type": "execute_result",
          "data": {
            "text/plain": [
              "('OK', [b'spiderman78778@gmail.com authenticated (Success)'])"
            ]
          },
          "metadata": {},
          "execution_count": 3
        }
      ]
    },
    {
      "cell_type": "markdown",
      "source": [
        "# Fetching emails from the inbox"
      ],
      "metadata": {
        "id": "DExqbKcPwohj"
      }
    },
    {
      "cell_type": "code",
      "source": [
        "# Select the mailbox you want to access\n",
        "mail.select(\"inbox\")\n",
        "\n",
        "# Search for all emails in the inbox\n",
        "status, messages = mail.search(None, \"ALL\")\n",
        "\n",
        "# Convert the messages to a list of email IDs\n",
        "email_ids = messages[0].split()\n"
      ],
      "metadata": {
        "id": "VLYkBGCBwqk0"
      },
      "execution_count": null,
      "outputs": []
    },
    {
      "cell_type": "markdown",
      "source": [
        "Extract and analyze email content"
      ],
      "metadata": {
        "id": "lBwIexZ6wuig"
      }
    },
    {
      "cell_type": "code",
      "source": [
        "# Function to clean and preprocess email content\n",
        "def clean_email_content(text):\n",
        "    text = text.lower()\n",
        "    text = re.sub(r'\\s+', ' ', text)  # Remove excess spaces\n",
        "    text = re.sub(r'[^\\w\\s]', '', text)  # Remove punctuation\n",
        "    return text\n",
        "\n",
        "# Fetch and display the emails\n",
        "emails = []\n",
        "for email_id in email_ids[:10]:  # Just process the first 10 emails for now\n",
        "    status, msg_data = mail.fetch(email_id, \"(RFC822)\")\n",
        "    for response_part in msg_data:\n",
        "        if isinstance(response_part, tuple):\n",
        "            msg = email.message_from_bytes(response_part[1])\n",
        "            subject, encoding = decode_header(msg[\"Subject\"])[0]\n",
        "            if isinstance(subject, bytes):\n",
        "                subject = subject.decode(encoding if encoding else \"utf-8\")\n",
        "\n",
        "            from_ = msg.get(\"From\")\n",
        "            if msg.is_multipart():\n",
        "                for part in msg.walk():\n",
        "                    content_type = part.get_content_type()\n",
        "                    content_disposition = str(part.get(\"Content-Disposition\"))\n",
        "                    if \"attachment\" not in content_disposition:\n",
        "                       body = \"\"  # Initialize body to an empty string\n",
        "\n",
        "            if msg.is_multipart():\n",
        "                for part in msg.walk():\n",
        "                    content_type = part.get_content_type()\n",
        "                    content_disposition = str(part.get(\"Content-Disposition\"))\n",
        "                    try:\n",
        "                        if \"attachment\" not in content_disposition:\n",
        "                            body = part.get_payload(decode=True).decode()\n",
        "                            break\n",
        "                    except:\n",
        "                        pass\n",
        "            else:\n",
        "                try:\n",
        "                    body = msg.get_payload(decode=True).decode()\n",
        "                except:\n",
        "                    pass\n",
        "\n",
        "            # Clean the email content\n",
        "            body = clean_email_content(body)\n",
        "\n",
        "            emails.append({\"subject\": subject, \"from\": from_, \"body\": body})\n",
        "\n",
        "# Show the first 2 emails\n",
        "for email in emails[:2]:\n",
        "    print(f\"Subject: {email['subject']}\")\n",
        "    print(f\"From: {email['from']}\")\n",
        "    print(f\"Body: {email['body'][:100]}...\\n\")\n"
      ],
      "metadata": {
        "colab": {
          "base_uri": "https://localhost:8080/"
        },
        "id": "b07M1sUVwv-B",
        "outputId": "59c24a3d-abe8-4d22-86a0-4cbba413b5ef"
      },
      "execution_count": null,
      "outputs": [
        {
          "output_type": "stream",
          "name": "stdout",
          "text": [
            "Subject: Welcome to Adobe\n",
            "From: account-noreply@adobe.com\n",
            "Body:  adobe  dear peter parker you recently created an adobeid your adobeid is spiderman78778gmailcom the...\n",
            "\n",
            "Subject: Create phenomenal photo looks on the go with presets\n",
            "From: \"Adobe Creative Cloud\" <mail@email.adobe.com>\n",
            "Body:  view web version httpttrgemailadobecomridt2699766972a6294e72a629e6p140je6b8tg2btuj2f2oyxolwcg4u88ma...\n",
            "\n"
          ]
        }
      ]
    },
    {
      "cell_type": "markdown",
      "source": [
        "Categorize the emails based on content"
      ],
      "metadata": {
        "id": "teGzvMkuwyUy"
      }
    },
    {
      "cell_type": "code",
      "source": [
        "# Categorization function\n",
        "def categorize_email(body):\n",
        "    categories = {\n",
        "        \"Assignments\": [\"assignment\", \"homework\", \"due\", \"deadline\"],\n",
        "        \"Exams\": [\"exam\", \"test\", \"quiz\", \"midterm\"],\n",
        "        \"Meetings\": [\"meeting\", \"schedule\", \"discussion\", \"appointment\"],\n",
        "        \"Personal\": [\"friend\", \"party\", \"chat\", \"family\"]\n",
        "    }\n",
        "\n",
        "    for category, keywords in categories.items():\n",
        "        for keyword in keywords:\n",
        "            if keyword in body:\n",
        "                return category\n",
        "    return \"Other\"\n",
        "\n",
        "# Categorize the emails\n",
        "for email in emails:\n",
        "    category = categorize_email(email[\"body\"])\n",
        "    email[\"category\"] = category\n",
        "\n",
        "# Show categorized emails\n",
        "for email in emails[:2]:\n",
        "    print(f\"Subject: {email['subject']}\")\n",
        "    print(f\"From: {email['from']}\")\n",
        "    print(f\"Category: {email['category']}\")\n",
        "    print(f\"Body: {email['body'][:100]}...\\n\")\n"
      ],
      "metadata": {
        "colab": {
          "base_uri": "https://localhost:8080/"
        },
        "id": "f8PokRD_w0wn",
        "outputId": "1343fdb5-bdda-47ac-8577-ddf1e3aaaa02"
      },
      "execution_count": null,
      "outputs": [
        {
          "output_type": "stream",
          "name": "stdout",
          "text": [
            "Subject: Welcome to Adobe\n",
            "From: account-noreply@adobe.com\n",
            "Category: Other\n",
            "Body:  adobe  dear peter parker you recently created an adobeid your adobeid is spiderman78778gmailcom the...\n",
            "\n",
            "Subject: Create phenomenal photo looks on the go with presets\n",
            "From: \"Adobe Creative Cloud\" <mail@email.adobe.com>\n",
            "Category: Other\n",
            "Body:  view web version httpttrgemailadobecomridt2699766972a6294e72a629e6p140je6b8tg2btuj2f2oyxolwcg4u88ma...\n",
            "\n"
          ]
        }
      ]
    },
    {
      "cell_type": "code",
      "source": [
        "from sklearn.feature_extraction.text import CountVectorizer\n",
        "from sklearn.naive_bayes import MultinomialNB\n",
        "from sklearn.model_selection import train_test_split\n",
        "from sklearn.pipeline import make_pipeline\n",
        "\n",
        "# Sample labeled data (replace with actual data)\n",
        "emails_text = [\"Due date for assignment\", \"Meeting at 10 AM\", \"Reminder for the exam tomorrow\", \"Catch up on the weekend\"]\n",
        "categories = [\"Assignments\", \"Meetings\", \"Exams\", \"Personal\"]\n",
        "\n",
        "# Split data into train and test sets\n",
        "X_train, X_test, y_train, y_test = train_test_split(emails_text, categories, test_size=0.2, random_state=42)\n",
        "\n",
        "# Create a model pipeline (vectorizer + Naive Bayes classifier)\n",
        "model = make_pipeline(CountVectorizer(), MultinomialNB())\n",
        "\n",
        "# Train the model\n",
        "model.fit(X_train, y_train)\n",
        "\n",
        "# Predict category for a new email\n",
        "email_to_predict = [\"The assignment deadline is next week\"]\n",
        "predicted_category = model.predict(email_to_predict)\n",
        "print(f\"Predicted category: {predicted_category[0]}\")\n"
      ],
      "metadata": {
        "colab": {
          "base_uri": "https://localhost:8080/"
        },
        "id": "PSHHuwwEzGEL",
        "outputId": "d40e4223-f8bc-4f76-a8a7-4eb43cad2183"
      },
      "execution_count": null,
      "outputs": [
        {
          "output_type": "stream",
          "name": "stdout",
          "text": [
            "Predicted category: Assignments\n"
          ]
        }
      ]
    },
    {
      "cell_type": "markdown",
      "source": [
        "# Interface and hugging face\n"
      ],
      "metadata": {
        "id": "1Ue8SoBuzbVy"
      }
    },
    {
      "cell_type": "code",
      "source": [
        "pip install gradio"
      ],
      "metadata": {
        "colab": {
          "base_uri": "https://localhost:8080/"
        },
        "id": "ymJVJuTh7o87",
        "outputId": "c23a40f3-1708-4865-ed67-49e575d991a5"
      },
      "execution_count": null,
      "outputs": [
        {
          "output_type": "stream",
          "name": "stdout",
          "text": [
            "Requirement already satisfied: gradio in /usr/local/lib/python3.10/dist-packages (5.6.0)\n",
            "Requirement already satisfied: aiofiles<24.0,>=22.0 in /usr/local/lib/python3.10/dist-packages (from gradio) (23.2.1)\n",
            "Requirement already satisfied: anyio<5.0,>=3.0 in /usr/local/lib/python3.10/dist-packages (from gradio) (3.7.1)\n",
            "Requirement already satisfied: fastapi<1.0,>=0.115.2 in /usr/local/lib/python3.10/dist-packages (from gradio) (0.115.5)\n",
            "Requirement already satisfied: ffmpy in /usr/local/lib/python3.10/dist-packages (from gradio) (0.4.0)\n",
            "Requirement already satisfied: gradio-client==1.4.3 in /usr/local/lib/python3.10/dist-packages (from gradio) (1.4.3)\n",
            "Requirement already satisfied: httpx>=0.24.1 in /usr/local/lib/python3.10/dist-packages (from gradio) (0.27.2)\n",
            "Requirement already satisfied: huggingface-hub>=0.25.1 in /usr/local/lib/python3.10/dist-packages (from gradio) (0.26.2)\n",
            "Requirement already satisfied: jinja2<4.0 in /usr/local/lib/python3.10/dist-packages (from gradio) (3.1.4)\n",
            "Requirement already satisfied: markupsafe~=2.0 in /usr/local/lib/python3.10/dist-packages (from gradio) (2.1.5)\n",
            "Requirement already satisfied: numpy<3.0,>=1.0 in /usr/local/lib/python3.10/dist-packages (from gradio) (1.26.4)\n",
            "Requirement already satisfied: orjson~=3.0 in /usr/local/lib/python3.10/dist-packages (from gradio) (3.10.11)\n",
            "Requirement already satisfied: packaging in /usr/local/lib/python3.10/dist-packages (from gradio) (24.2)\n",
            "Requirement already satisfied: pandas<3.0,>=1.0 in /usr/local/lib/python3.10/dist-packages (from gradio) (2.2.2)\n",
            "Requirement already satisfied: pillow<12.0,>=8.0 in /usr/local/lib/python3.10/dist-packages (from gradio) (11.0.0)\n",
            "Requirement already satisfied: pydantic>=2.0 in /usr/local/lib/python3.10/dist-packages (from gradio) (2.9.2)\n",
            "Requirement already satisfied: pydub in /usr/local/lib/python3.10/dist-packages (from gradio) (0.25.1)\n",
            "Requirement already satisfied: python-multipart==0.0.12 in /usr/local/lib/python3.10/dist-packages (from gradio) (0.0.12)\n",
            "Requirement already satisfied: pyyaml<7.0,>=5.0 in /usr/local/lib/python3.10/dist-packages (from gradio) (6.0.2)\n",
            "Requirement already satisfied: ruff>=0.2.2 in /usr/local/lib/python3.10/dist-packages (from gradio) (0.7.4)\n",
            "Requirement already satisfied: safehttpx<1.0,>=0.1.1 in /usr/local/lib/python3.10/dist-packages (from gradio) (0.1.1)\n",
            "Requirement already satisfied: semantic-version~=2.0 in /usr/local/lib/python3.10/dist-packages (from gradio) (2.10.0)\n",
            "Requirement already satisfied: starlette<1.0,>=0.40.0 in /usr/local/lib/python3.10/dist-packages (from gradio) (0.41.2)\n",
            "Requirement already satisfied: tomlkit==0.12.0 in /usr/local/lib/python3.10/dist-packages (from gradio) (0.12.0)\n",
            "Requirement already satisfied: typer<1.0,>=0.12 in /usr/local/lib/python3.10/dist-packages (from gradio) (0.13.0)\n",
            "Requirement already satisfied: typing-extensions~=4.0 in /usr/local/lib/python3.10/dist-packages (from gradio) (4.12.2)\n",
            "Requirement already satisfied: uvicorn>=0.14.0 in /usr/local/lib/python3.10/dist-packages (from gradio) (0.32.0)\n",
            "Requirement already satisfied: fsspec in /usr/local/lib/python3.10/dist-packages (from gradio-client==1.4.3->gradio) (2024.10.0)\n",
            "Requirement already satisfied: websockets<13.0,>=10.0 in /usr/local/lib/python3.10/dist-packages (from gradio-client==1.4.3->gradio) (12.0)\n",
            "Requirement already satisfied: idna>=2.8 in /usr/local/lib/python3.10/dist-packages (from anyio<5.0,>=3.0->gradio) (3.10)\n",
            "Requirement already satisfied: sniffio>=1.1 in /usr/local/lib/python3.10/dist-packages (from anyio<5.0,>=3.0->gradio) (1.3.1)\n",
            "Requirement already satisfied: exceptiongroup in /usr/local/lib/python3.10/dist-packages (from anyio<5.0,>=3.0->gradio) (1.2.2)\n",
            "Requirement already satisfied: certifi in /usr/local/lib/python3.10/dist-packages (from httpx>=0.24.1->gradio) (2024.8.30)\n",
            "Requirement already satisfied: httpcore==1.* in /usr/local/lib/python3.10/dist-packages (from httpx>=0.24.1->gradio) (1.0.6)\n",
            "Requirement already satisfied: h11<0.15,>=0.13 in /usr/local/lib/python3.10/dist-packages (from httpcore==1.*->httpx>=0.24.1->gradio) (0.14.0)\n",
            "Requirement already satisfied: filelock in /usr/local/lib/python3.10/dist-packages (from huggingface-hub>=0.25.1->gradio) (3.16.1)\n",
            "Requirement already satisfied: requests in /usr/local/lib/python3.10/dist-packages (from huggingface-hub>=0.25.1->gradio) (2.32.3)\n",
            "Requirement already satisfied: tqdm>=4.42.1 in /usr/local/lib/python3.10/dist-packages (from huggingface-hub>=0.25.1->gradio) (4.66.6)\n",
            "Requirement already satisfied: python-dateutil>=2.8.2 in /usr/local/lib/python3.10/dist-packages (from pandas<3.0,>=1.0->gradio) (2.8.2)\n",
            "Requirement already satisfied: pytz>=2020.1 in /usr/local/lib/python3.10/dist-packages (from pandas<3.0,>=1.0->gradio) (2024.2)\n",
            "Requirement already satisfied: tzdata>=2022.7 in /usr/local/lib/python3.10/dist-packages (from pandas<3.0,>=1.0->gradio) (2024.2)\n",
            "Requirement already satisfied: annotated-types>=0.6.0 in /usr/local/lib/python3.10/dist-packages (from pydantic>=2.0->gradio) (0.7.0)\n",
            "Requirement already satisfied: pydantic-core==2.23.4 in /usr/local/lib/python3.10/dist-packages (from pydantic>=2.0->gradio) (2.23.4)\n",
            "Requirement already satisfied: click>=8.0.0 in /usr/local/lib/python3.10/dist-packages (from typer<1.0,>=0.12->gradio) (8.1.7)\n",
            "Requirement already satisfied: shellingham>=1.3.0 in /usr/local/lib/python3.10/dist-packages (from typer<1.0,>=0.12->gradio) (1.5.4)\n",
            "Requirement already satisfied: rich>=10.11.0 in /usr/local/lib/python3.10/dist-packages (from typer<1.0,>=0.12->gradio) (13.9.4)\n",
            "Requirement already satisfied: six>=1.5 in /usr/local/lib/python3.10/dist-packages (from python-dateutil>=2.8.2->pandas<3.0,>=1.0->gradio) (1.16.0)\n",
            "Requirement already satisfied: markdown-it-py>=2.2.0 in /usr/local/lib/python3.10/dist-packages (from rich>=10.11.0->typer<1.0,>=0.12->gradio) (3.0.0)\n",
            "Requirement already satisfied: pygments<3.0.0,>=2.13.0 in /usr/local/lib/python3.10/dist-packages (from rich>=10.11.0->typer<1.0,>=0.12->gradio) (2.18.0)\n",
            "Requirement already satisfied: charset-normalizer<4,>=2 in /usr/local/lib/python3.10/dist-packages (from requests->huggingface-hub>=0.25.1->gradio) (3.4.0)\n",
            "Requirement already satisfied: urllib3<3,>=1.21.1 in /usr/local/lib/python3.10/dist-packages (from requests->huggingface-hub>=0.25.1->gradio) (2.2.3)\n",
            "Requirement already satisfied: mdurl~=0.1 in /usr/local/lib/python3.10/dist-packages (from markdown-it-py>=2.2.0->rich>=10.11.0->typer<1.0,>=0.12->gradio) (0.1.2)\n"
          ]
        }
      ]
    },
    {
      "cell_type": "code",
      "source": [
        "# Gmail IMAP server details\n",
        "imap_host = \"imap.gmail.com\"\n",
        "email_user = \"your email\"  # Replace with your email\n",
        "email_pass = \"your app pass\"  # Use your Gmail app password, not the account password\n",
        "\n",
        "# Connect to the server\n",
        "mail = imaplib.IMAP4_SSL(imap_host)\n",
        "\n",
        "# Log in to the email account\n",
        "mail.login(email_user, email_pass)\n"
      ],
      "metadata": {
        "id": "sgN8Xoc7L2pG"
      },
      "execution_count": null,
      "outputs": []
    },
    {
      "cell_type": "markdown",
      "source": [
        "# code with search functionality, save to file, and email slot tracking:"
      ],
      "metadata": {
        "id": "0nVBdBigPcBU"
      }
    },
    {
      "cell_type": "code",
      "source": [
        "import gradio as gr\n",
        "from datetime import datetime, timedelta\n",
        "import imaplib\n",
        "import email as email_lib\n",
        "from email.header import decode_header\n",
        "import re\n",
        "from transformers import pipeline\n",
        "import csv\n",
        "\n",
        "# Hugging Face text classification pipeline\n",
        "classifier = pipeline(\"text-classification\", model=\"distilbert-base-uncased-finetuned-sst-2-english\")\n",
        "\n",
        "# Global state\n",
        "email_limit = 100\n",
        "daily_emails = []\n",
        "reset_time = datetime.now().replace(hour=23, minute=30, second=0)\n",
        "\n",
        "# Reset email limit at 11:30 PM\n",
        "def reset_email_limit():\n",
        "    global email_limit, daily_emails\n",
        "    if datetime.now() >= reset_time:\n",
        "        email_limit = 100\n",
        "        daily_emails = []\n",
        "\n",
        "# Categorize email using Hugging Face\n",
        "def categorize_email_hf(subject, body):\n",
        "    content = f\"Subject: {subject}\\nBody: {body[:500]}\"\n",
        "    result = classifier(content)[0]\n",
        "    if result['label'] == 'POSITIVE':\n",
        "        return \"Important\"\n",
        "    elif result['label'] == 'NEGATIVE':\n",
        "        return \"Spam\"\n",
        "    else:\n",
        "        return \"Other\"\n",
        "\n",
        "# Fetch and categorize emails\n",
        "def fetch_emails(email_user, email_pass):\n",
        "    global email_limit, daily_emails\n",
        "\n",
        "    # Check daily limit\n",
        "    reset_email_limit()\n",
        "    if email_limit <= 0:\n",
        "        return \"Daily email limit reached. Try again tomorrow.\"\n",
        "\n",
        "    try:\n",
        "        # Connect to Gmail\n",
        "        mail = imaplib.IMAP4_SSL(\"imap.gmail.com\")\n",
        "        mail.login(email_user, email_pass)\n",
        "\n",
        "        # Select inbox\n",
        "        mail.select(\"inbox\")\n",
        "\n",
        "        # Filter today's emails\n",
        "        today = datetime.now().strftime(\"%d-%b-%Y\")\n",
        "        status, messages = mail.search(None, f'SINCE {today}')\n",
        "        email_ids = messages[0].split()\n",
        "\n",
        "        # Limit to available slots\n",
        "        limit = min(len(email_ids), email_limit)\n",
        "        emails = []\n",
        "        for email_id in email_ids[:limit]:\n",
        "            status, msg_data = mail.fetch(email_id, \"(RFC822)\")\n",
        "            for response_part in msg_data:\n",
        "                if isinstance(response_part, tuple):\n",
        "                    msg = email_lib.message_from_bytes(response_part[1])\n",
        "\n",
        "                    # Decode subject\n",
        "                    subject, encoding = decode_header(msg.get(\"Subject\"))[0]\n",
        "                    if isinstance(subject, bytes):\n",
        "                        subject = subject.decode(encoding if encoding else \"utf-8\")\n",
        "                    else:\n",
        "                        subject = subject or \"No Subject\"\n",
        "\n",
        "                    # Get sender\n",
        "                    from_ = msg.get(\"From\") or \"Unknown Sender\"\n",
        "\n",
        "                    # Extract body\n",
        "                    body = None\n",
        "                    if msg.is_multipart():\n",
        "                        for part in msg.walk():\n",
        "                            content_type = part.get_content_type()\n",
        "                            if content_type == \"text/plain\":\n",
        "                                body = part.get_payload(decode=True).decode(errors=\"ignore\")\n",
        "                                break\n",
        "                            elif content_type == \"text/html\" and not body:\n",
        "                                body = re.sub(r'<.*?>', '', part.get_payload(decode=True).decode(errors=\"ignore\"))\n",
        "                    else:\n",
        "                        body = msg.get_payload(decode=True).decode(errors=\"ignore\")\n",
        "\n",
        "                    body = body or \"No content available\"\n",
        "\n",
        "                    # Categorize with Hugging Face\n",
        "                    category = categorize_email_hf(subject, body)\n",
        "\n",
        "                    email_data = {\n",
        "                        \"subject\": subject,\n",
        "                        \"from\": from_,\n",
        "                        \"category\": category,\n",
        "                        \"body\": body[:200]  # Limit to first 200 characters\n",
        "                    }\n",
        "                    emails.append(email_data)\n",
        "                    daily_emails.append(email_data)\n",
        "\n",
        "        email_limit -= len(emails)\n",
        "        return emails if emails else \"No emails found for today.\"\n",
        "\n",
        "    except Exception as e:\n",
        "        return f\"Error: {str(e)}\"\n",
        "\n",
        "# Save emails to file\n",
        "def save_to_file():\n",
        "    try:\n",
        "        with open(\"categorized_emails.csv\", \"w\", newline=\"\") as f:\n",
        "            writer = csv.DictWriter(f, fieldnames=[\"subject\", \"from\", \"category\", \"body\"])\n",
        "            writer.writeheader()\n",
        "            writer.writerows(daily_emails)\n",
        "        return \"Emails saved to 'categorized_emails.csv'.\"\n",
        "    except Exception as e:\n",
        "        return f\"Error: {str(e)}\"\n",
        "\n",
        "# Gradio UI\n",
        "def email_categorizer(email, password):\n",
        "    emails = fetch_emails(email, password)\n",
        "    if isinstance(emails, str):\n",
        "        return emails  # Return error or limit message\n",
        "    return \"\\n\\n\".join(\n",
        "        [f\"Subject: {email['subject']}\\nFrom: {email['from']}\\nCategory: {email['category']}\\nBody: {email['body']}\" for email in emails]\n",
        "    )\n",
        "\n",
        "# Search function\n",
        "def search_emails(keyword):\n",
        "    results = [email for email in daily_emails if keyword.lower() in email[\"subject\"].lower()]\n",
        "    if not results:\n",
        "        return \"No matching emails found.\"\n",
        "    return \"\\n\\n\".join(\n",
        "        [f\"Subject: {email['subject']}\\nFrom: {email['from']}\\nCategory: {email['category']}\\nBody: {email['body']}\" for email in results]\n",
        "    )\n",
        "\n",
        "# Gradio Blocks UI\n",
        "with gr.Blocks() as demo:\n",
        "    gr.Markdown(\"# Enhanced Email Categorizer with Hugging Face\")\n",
        "    gr.Markdown(\"Enter your email credentials to categorize today's emails.\")\n",
        "\n",
        "    with gr.Row():\n",
        "        email_input = gr.Textbox(label=\"Email Address\", placeholder=\"example@gmail.com\")\n",
        "        password_input = gr.Textbox(label=\"App Password\", type=\"password\", placeholder=\"Your app password\")\n",
        "\n",
        "    with gr.Row():\n",
        "        categorize_button = gr.Button(\"Fetch and Categorize Emails\")\n",
        "        save_button = gr.Button(\"Save Emails to File\")\n",
        "\n",
        "    output_box = gr.Textbox(label=\"Categorized Emails\", lines=20)\n",
        "\n",
        "    with gr.Row():\n",
        "        search_input = gr.Textbox(label=\"Search Emails by Keyword\")\n",
        "        search_button = gr.Button(\"Search\")\n",
        "        search_output = gr.Textbox(label=\"Search Results\", lines=10)\n",
        "\n",
        "    categorize_button.click(email_categorizer, inputs=[email_input, password_input], outputs=output_box)\n",
        "    save_button.click(save_to_file, inputs=[], outputs=output_box)\n",
        "    search_button.click(search_emails, inputs=[search_input], outputs=search_output)\n",
        "\n",
        "demo.launch()\n"
      ],
      "metadata": {
        "colab": {
          "base_uri": "https://localhost:8080/",
          "height": 645
        },
        "id": "Gtz_52j5PbnM",
        "outputId": "7de19e13-98fc-4ded-b342-213788a740d6"
      },
      "execution_count": null,
      "outputs": [
        {
          "output_type": "stream",
          "name": "stdout",
          "text": [
            "Running Gradio in a Colab notebook requires sharing enabled. Automatically setting `share=True` (you can turn this off by setting `share=False` in `launch()` explicitly).\n",
            "\n",
            "Colab notebook detected. To show errors in colab notebook, set debug=True in launch()\n",
            "* Running on public URL: https://2bbabb927a4663d53b.gradio.live\n",
            "\n",
            "This share link expires in 72 hours. For free permanent hosting and GPU upgrades, run `gradio deploy` from the terminal in the working directory to deploy to Hugging Face Spaces (https://huggingface.co/spaces)\n"
          ]
        },
        {
          "output_type": "display_data",
          "data": {
            "text/plain": [
              "<IPython.core.display.HTML object>"
            ],
            "text/html": [
              "<div><iframe src=\"https://2bbabb927a4663d53b.gradio.live\" width=\"100%\" height=\"500\" allow=\"autoplay; camera; microphone; clipboard-read; clipboard-write;\" frameborder=\"0\" allowfullscreen></iframe></div>"
            ]
          },
          "metadata": {}
        },
        {
          "output_type": "execute_result",
          "data": {
            "text/plain": []
          },
          "metadata": {},
          "execution_count": 49
        }
      ]
    },
    {
      "cell_type": "markdown",
      "source": [
        "# Fine Tuning"
      ],
      "metadata": {
        "id": "jWz1YDR2Rhat"
      }
    },
    {
      "cell_type": "code",
      "source": [
        "!pip install transformers datasets gradio torch\n"
      ],
      "metadata": {
        "colab": {
          "base_uri": "https://localhost:8080/"
        },
        "id": "scFmW-QZVugd",
        "outputId": "1ed30045-e42e-41ae-9aae-ac9bb5bd12ee"
      },
      "execution_count": null,
      "outputs": [
        {
          "output_type": "stream",
          "name": "stdout",
          "text": [
            "Requirement already satisfied: transformers in /usr/local/lib/python3.10/dist-packages (4.46.2)\n",
            "Requirement already satisfied: datasets in /usr/local/lib/python3.10/dist-packages (3.1.0)\n",
            "Requirement already satisfied: gradio in /usr/local/lib/python3.10/dist-packages (5.6.0)\n",
            "Requirement already satisfied: torch in /usr/local/lib/python3.10/dist-packages (2.5.1+cu121)\n",
            "Requirement already satisfied: filelock in /usr/local/lib/python3.10/dist-packages (from transformers) (3.16.1)\n",
            "Requirement already satisfied: huggingface-hub<1.0,>=0.23.2 in /usr/local/lib/python3.10/dist-packages (from transformers) (0.26.2)\n",
            "Requirement already satisfied: numpy>=1.17 in /usr/local/lib/python3.10/dist-packages (from transformers) (1.26.4)\n",
            "Requirement already satisfied: packaging>=20.0 in /usr/local/lib/python3.10/dist-packages (from transformers) (24.2)\n",
            "Requirement already satisfied: pyyaml>=5.1 in /usr/local/lib/python3.10/dist-packages (from transformers) (6.0.2)\n",
            "Requirement already satisfied: regex!=2019.12.17 in /usr/local/lib/python3.10/dist-packages (from transformers) (2024.9.11)\n",
            "Requirement already satisfied: requests in /usr/local/lib/python3.10/dist-packages (from transformers) (2.32.3)\n",
            "Requirement already satisfied: safetensors>=0.4.1 in /usr/local/lib/python3.10/dist-packages (from transformers) (0.4.5)\n",
            "Requirement already satisfied: tokenizers<0.21,>=0.20 in /usr/local/lib/python3.10/dist-packages (from transformers) (0.20.3)\n",
            "Requirement already satisfied: tqdm>=4.27 in /usr/local/lib/python3.10/dist-packages (from transformers) (4.66.6)\n",
            "Requirement already satisfied: pyarrow>=15.0.0 in /usr/local/lib/python3.10/dist-packages (from datasets) (17.0.0)\n",
            "Requirement already satisfied: dill<0.3.9,>=0.3.0 in /usr/local/lib/python3.10/dist-packages (from datasets) (0.3.8)\n",
            "Requirement already satisfied: pandas in /usr/local/lib/python3.10/dist-packages (from datasets) (2.2.2)\n",
            "Requirement already satisfied: xxhash in /usr/local/lib/python3.10/dist-packages (from datasets) (3.5.0)\n",
            "Requirement already satisfied: multiprocess<0.70.17 in /usr/local/lib/python3.10/dist-packages (from datasets) (0.70.16)\n",
            "Requirement already satisfied: fsspec<=2024.9.0,>=2023.1.0 in /usr/local/lib/python3.10/dist-packages (from fsspec[http]<=2024.9.0,>=2023.1.0->datasets) (2024.9.0)\n",
            "Requirement already satisfied: aiohttp in /usr/local/lib/python3.10/dist-packages (from datasets) (3.10.10)\n",
            "Requirement already satisfied: aiofiles<24.0,>=22.0 in /usr/local/lib/python3.10/dist-packages (from gradio) (23.2.1)\n",
            "Requirement already satisfied: anyio<5.0,>=3.0 in /usr/local/lib/python3.10/dist-packages (from gradio) (3.7.1)\n",
            "Requirement already satisfied: fastapi<1.0,>=0.115.2 in /usr/local/lib/python3.10/dist-packages (from gradio) (0.115.5)\n",
            "Requirement already satisfied: ffmpy in /usr/local/lib/python3.10/dist-packages (from gradio) (0.4.0)\n",
            "Requirement already satisfied: gradio-client==1.4.3 in /usr/local/lib/python3.10/dist-packages (from gradio) (1.4.3)\n",
            "Requirement already satisfied: httpx>=0.24.1 in /usr/local/lib/python3.10/dist-packages (from gradio) (0.27.2)\n",
            "Requirement already satisfied: jinja2<4.0 in /usr/local/lib/python3.10/dist-packages (from gradio) (3.1.4)\n",
            "Requirement already satisfied: markupsafe~=2.0 in /usr/local/lib/python3.10/dist-packages (from gradio) (2.1.5)\n",
            "Requirement already satisfied: orjson~=3.0 in /usr/local/lib/python3.10/dist-packages (from gradio) (3.10.11)\n",
            "Requirement already satisfied: pillow<12.0,>=8.0 in /usr/local/lib/python3.10/dist-packages (from gradio) (11.0.0)\n",
            "Requirement already satisfied: pydantic>=2.0 in /usr/local/lib/python3.10/dist-packages (from gradio) (2.9.2)\n",
            "Requirement already satisfied: pydub in /usr/local/lib/python3.10/dist-packages (from gradio) (0.25.1)\n",
            "Requirement already satisfied: python-multipart==0.0.12 in /usr/local/lib/python3.10/dist-packages (from gradio) (0.0.12)\n",
            "Requirement already satisfied: ruff>=0.2.2 in /usr/local/lib/python3.10/dist-packages (from gradio) (0.7.4)\n",
            "Requirement already satisfied: safehttpx<1.0,>=0.1.1 in /usr/local/lib/python3.10/dist-packages (from gradio) (0.1.1)\n",
            "Requirement already satisfied: semantic-version~=2.0 in /usr/local/lib/python3.10/dist-packages (from gradio) (2.10.0)\n",
            "Requirement already satisfied: starlette<1.0,>=0.40.0 in /usr/local/lib/python3.10/dist-packages (from gradio) (0.41.2)\n",
            "Requirement already satisfied: tomlkit==0.12.0 in /usr/local/lib/python3.10/dist-packages (from gradio) (0.12.0)\n",
            "Requirement already satisfied: typer<1.0,>=0.12 in /usr/local/lib/python3.10/dist-packages (from gradio) (0.13.0)\n",
            "Requirement already satisfied: typing-extensions~=4.0 in /usr/local/lib/python3.10/dist-packages (from gradio) (4.12.2)\n",
            "Requirement already satisfied: uvicorn>=0.14.0 in /usr/local/lib/python3.10/dist-packages (from gradio) (0.32.0)\n",
            "Requirement already satisfied: websockets<13.0,>=10.0 in /usr/local/lib/python3.10/dist-packages (from gradio-client==1.4.3->gradio) (12.0)\n",
            "Requirement already satisfied: networkx in /usr/local/lib/python3.10/dist-packages (from torch) (3.4.2)\n",
            "Requirement already satisfied: sympy==1.13.1 in /usr/local/lib/python3.10/dist-packages (from torch) (1.13.1)\n",
            "Requirement already satisfied: mpmath<1.4,>=1.1.0 in /usr/local/lib/python3.10/dist-packages (from sympy==1.13.1->torch) (1.3.0)\n",
            "Requirement already satisfied: idna>=2.8 in /usr/local/lib/python3.10/dist-packages (from anyio<5.0,>=3.0->gradio) (3.10)\n",
            "Requirement already satisfied: sniffio>=1.1 in /usr/local/lib/python3.10/dist-packages (from anyio<5.0,>=3.0->gradio) (1.3.1)\n",
            "Requirement already satisfied: exceptiongroup in /usr/local/lib/python3.10/dist-packages (from anyio<5.0,>=3.0->gradio) (1.2.2)\n",
            "Requirement already satisfied: aiohappyeyeballs>=2.3.0 in /usr/local/lib/python3.10/dist-packages (from aiohttp->datasets) (2.4.3)\n",
            "Requirement already satisfied: aiosignal>=1.1.2 in /usr/local/lib/python3.10/dist-packages (from aiohttp->datasets) (1.3.1)\n",
            "Requirement already satisfied: attrs>=17.3.0 in /usr/local/lib/python3.10/dist-packages (from aiohttp->datasets) (24.2.0)\n",
            "Requirement already satisfied: frozenlist>=1.1.1 in /usr/local/lib/python3.10/dist-packages (from aiohttp->datasets) (1.5.0)\n",
            "Requirement already satisfied: multidict<7.0,>=4.5 in /usr/local/lib/python3.10/dist-packages (from aiohttp->datasets) (6.1.0)\n",
            "Requirement already satisfied: yarl<2.0,>=1.12.0 in /usr/local/lib/python3.10/dist-packages (from aiohttp->datasets) (1.17.1)\n",
            "Requirement already satisfied: async-timeout<5.0,>=4.0 in /usr/local/lib/python3.10/dist-packages (from aiohttp->datasets) (4.0.3)\n",
            "Requirement already satisfied: certifi in /usr/local/lib/python3.10/dist-packages (from httpx>=0.24.1->gradio) (2024.8.30)\n",
            "Requirement already satisfied: httpcore==1.* in /usr/local/lib/python3.10/dist-packages (from httpx>=0.24.1->gradio) (1.0.6)\n",
            "Requirement already satisfied: h11<0.15,>=0.13 in /usr/local/lib/python3.10/dist-packages (from httpcore==1.*->httpx>=0.24.1->gradio) (0.14.0)\n",
            "Requirement already satisfied: python-dateutil>=2.8.2 in /usr/local/lib/python3.10/dist-packages (from pandas->datasets) (2.8.2)\n",
            "Requirement already satisfied: pytz>=2020.1 in /usr/local/lib/python3.10/dist-packages (from pandas->datasets) (2024.2)\n",
            "Requirement already satisfied: tzdata>=2022.7 in /usr/local/lib/python3.10/dist-packages (from pandas->datasets) (2024.2)\n",
            "Requirement already satisfied: annotated-types>=0.6.0 in /usr/local/lib/python3.10/dist-packages (from pydantic>=2.0->gradio) (0.7.0)\n",
            "Requirement already satisfied: pydantic-core==2.23.4 in /usr/local/lib/python3.10/dist-packages (from pydantic>=2.0->gradio) (2.23.4)\n",
            "Requirement already satisfied: charset-normalizer<4,>=2 in /usr/local/lib/python3.10/dist-packages (from requests->transformers) (3.4.0)\n",
            "Requirement already satisfied: urllib3<3,>=1.21.1 in /usr/local/lib/python3.10/dist-packages (from requests->transformers) (2.2.3)\n",
            "Requirement already satisfied: click>=8.0.0 in /usr/local/lib/python3.10/dist-packages (from typer<1.0,>=0.12->gradio) (8.1.7)\n",
            "Requirement already satisfied: shellingham>=1.3.0 in /usr/local/lib/python3.10/dist-packages (from typer<1.0,>=0.12->gradio) (1.5.4)\n",
            "Requirement already satisfied: rich>=10.11.0 in /usr/local/lib/python3.10/dist-packages (from typer<1.0,>=0.12->gradio) (13.9.4)\n",
            "Requirement already satisfied: six>=1.5 in /usr/local/lib/python3.10/dist-packages (from python-dateutil>=2.8.2->pandas->datasets) (1.16.0)\n",
            "Requirement already satisfied: markdown-it-py>=2.2.0 in /usr/local/lib/python3.10/dist-packages (from rich>=10.11.0->typer<1.0,>=0.12->gradio) (3.0.0)\n",
            "Requirement already satisfied: pygments<3.0.0,>=2.13.0 in /usr/local/lib/python3.10/dist-packages (from rich>=10.11.0->typer<1.0,>=0.12->gradio) (2.18.0)\n",
            "Requirement already satisfied: propcache>=0.2.0 in /usr/local/lib/python3.10/dist-packages (from yarl<2.0,>=1.12.0->aiohttp->datasets) (0.2.0)\n",
            "Requirement already satisfied: mdurl~=0.1 in /usr/local/lib/python3.10/dist-packages (from markdown-it-py>=2.2.0->rich>=10.11.0->typer<1.0,>=0.12->gradio) (0.1.2)\n"
          ]
        }
      ]
    },
    {
      "cell_type": "code",
      "source": [
        "import pandas as pd\n",
        "\n",
        "# Sample dataset (replace with your data)\n",
        "data = {\n",
        "    'body': [\n",
        "        \"Your subscription will expire tomorrow. Renew to continue enjoying premium features.\",\n",
        "        \"We are excited to inform you about our upcoming event this weekend. Join us for exciting talks, workshops, and networking opportunities.\"\n",
        "    ],\n",
        "    'summary': [\n",
        "        \"Subscription expires tomorrow. Renew now.\",\n",
        "        \"Upcoming event this weekend: talks, workshops, networking.\"\n",
        "    ]\n",
        "}\n",
        "\n",
        "df = pd.DataFrame(data)\n",
        "df.to_csv(\"train.csv\", index=False)\n"
      ],
      "metadata": {
        "id": "bVQBRfrIVwuA"
      },
      "execution_count": null,
      "outputs": []
    },
    {
      "cell_type": "code",
      "source": [
        "import pandas as pd\n",
        "\n",
        "# Load the train and test CSVs\n",
        "train_df = pd.read_csv('train.csv')\n",
        "test_df = pd.read_csv('test.csv')\n",
        "\n",
        "# Check the columns of both datasets\n",
        "print(\"Train Columns:\", train_df.columns)\n",
        "print(\"Test Columns:\", test_df.columns)\n",
        "\n",
        "# Drop the extra columns from the test dataset\n",
        "test_df = test_df[['body', 'summary']]  # Keep only 'body' and 'summary'\n",
        "\n",
        "# Save the corrected files\n",
        "test_df.to_csv('test_corrected.csv', index=False)\n"
      ],
      "metadata": {
        "colab": {
          "base_uri": "https://localhost:8080/"
        },
        "id": "LocY3ItrV5gN",
        "outputId": "3423995c-9f4a-454c-e894-a484f10307fe"
      },
      "execution_count": null,
      "outputs": [
        {
          "output_type": "stream",
          "name": "stdout",
          "text": [
            "Train Columns: Index(['body', 'summary'], dtype='object')\n",
            "Test Columns: Index(['subject', 'body', 'category', 'summary'], dtype='object')\n"
          ]
        }
      ]
    },
    {
      "cell_type": "code",
      "source": [
        "from datasets import load_dataset\n",
        "\n",
        "# Load the corrected dataset\n",
        "dataset = load_dataset(\"csv\", data_files={\"train\": \"train.csv\", \"test\": \"test_corrected.csv\"})\n"
      ],
      "metadata": {
        "colab": {
          "base_uri": "https://localhost:8080/",
          "height": 81,
          "referenced_widgets": [
            "2dae666d54fc4db2bbd843b281bcc97c",
            "5bc35fb6fa744e72ba77c51149db42d4",
            "96b9a4df275c4647bda4870aed0d237d",
            "4c9e076ffdf241d48d5ffa88a113074f",
            "6b770185c044414488fc8c5fb5c4c739",
            "3ce8623ae5b74642a6fbcae5e1c3eee4",
            "3a353953cef547aeb87402ae06e1035e",
            "113d30b95ed240cd835fe8fdd6e58bb8",
            "332b8bb73bf94c758678bd19b30296c0",
            "0f81d753656f4a1faf39ccb4e46d8e1f",
            "09f1ee9725bd43309b66e9ae4b7cc24c",
            "34d1e70fac904331b364bf5e4ce361c6",
            "817093e15f8546f2a3ba0e1e5e5801c4",
            "0391f4cca20d4aafbdf6a13e66f79cda",
            "3bb3666939c44220a56955564bed1871",
            "a4c493f935214e76897efda8e3098368",
            "67db9dfabbdb4dedab36070022337cb7",
            "f1fd81d1880a4313ac706e7d8549e5db",
            "d40d3acd8cc14c39800c466f5507db53",
            "e6957c8c5d4b4aa794283e30d4c4641c",
            "b22352e153cb4163bab1240230fcf182",
            "6ac845cb98354be89711b86684cbe991"
          ]
        },
        "id": "hukGlXW4WKRt",
        "outputId": "c931f707-bd96-4e2b-8ded-6ebb53b9d226"
      },
      "execution_count": null,
      "outputs": [
        {
          "output_type": "display_data",
          "data": {
            "text/plain": [
              "Generating train split: 0 examples [00:00, ? examples/s]"
            ],
            "application/vnd.jupyter.widget-view+json": {
              "version_major": 2,
              "version_minor": 0,
              "model_id": "2dae666d54fc4db2bbd843b281bcc97c"
            }
          },
          "metadata": {}
        },
        {
          "output_type": "display_data",
          "data": {
            "text/plain": [
              "Generating test split: 0 examples [00:00, ? examples/s]"
            ],
            "application/vnd.jupyter.widget-view+json": {
              "version_major": 2,
              "version_minor": 0,
              "model_id": "34d1e70fac904331b364bf5e4ce361c6"
            }
          },
          "metadata": {}
        }
      ]
    },
    {
      "cell_type": "code",
      "source": [
        "from transformers import Trainer, TrainingArguments\n",
        "\n",
        "# Training arguments\n",
        "training_args = TrainingArguments(\n",
        "    output_dir=\"./fine_tuned_t5\",  # Where the model will be saved\n",
        "    evaluation_strategy=\"epoch\",\n",
        "    save_strategy=\"epoch\",\n",
        "    learning_rate=5e-5,\n",
        "    per_device_train_batch_size=8,\n",
        "    num_train_epochs=3,\n",
        "    save_total_limit=2,\n",
        "    weight_decay=0.01,\n",
        "    load_best_model_at_end=True,\n",
        "    report_to=\"none\",  # Disable wandb logging\n",
        ")\n",
        "\n",
        "# Trainer\n",
        "trainer = Trainer(\n",
        "    model=model,\n",
        "    args=training_args,\n",
        "    train_dataset=tokenized_dataset[\"train\"],\n",
        "    eval_dataset=tokenized_dataset[\"test\"],\n",
        "    data_collator=None,\n",
        ")\n",
        "\n",
        "# Start training\n",
        "trainer.train()\n",
        "\n",
        "# Save the model and tokenizer\n",
        "model.save_pretrained(\"/content/fine_tuned_t5\")\n",
        "tokenizer.save_pretrained(\"/content/fine_tuned_t5\")\n"
      ],
      "metadata": {
        "colab": {
          "base_uri": "https://localhost:8080/",
          "height": 293
        },
        "id": "Eo7lePQuWqBF",
        "outputId": "079d6f26-520c-48b7-ab58-040fe0301c11"
      },
      "execution_count": null,
      "outputs": [
        {
          "output_type": "display_data",
          "data": {
            "text/plain": [
              "<IPython.core.display.HTML object>"
            ],
            "text/html": [
              "\n",
              "    <div>\n",
              "      \n",
              "      <progress value='3' max='3' style='width:300px; height:20px; vertical-align: middle;'></progress>\n",
              "      [3/3 01:07, Epoch 3/3]\n",
              "    </div>\n",
              "    <table border=\"1\" class=\"dataframe\">\n",
              "  <thead>\n",
              " <tr style=\"text-align: left;\">\n",
              "      <th>Epoch</th>\n",
              "      <th>Training Loss</th>\n",
              "      <th>Validation Loss</th>\n",
              "    </tr>\n",
              "  </thead>\n",
              "  <tbody>\n",
              "    <tr>\n",
              "      <td>1</td>\n",
              "      <td>No log</td>\n",
              "      <td>9.426620</td>\n",
              "    </tr>\n",
              "    <tr>\n",
              "      <td>2</td>\n",
              "      <td>No log</td>\n",
              "      <td>9.056620</td>\n",
              "    </tr>\n",
              "    <tr>\n",
              "      <td>3</td>\n",
              "      <td>No log</td>\n",
              "      <td>8.865244</td>\n",
              "    </tr>\n",
              "  </tbody>\n",
              "</table><p>"
            ]
          },
          "metadata": {}
        },
        {
          "output_type": "stream",
          "name": "stderr",
          "text": [
            "There were missing keys in the checkpoint model loaded: ['encoder.embed_tokens.weight', 'decoder.embed_tokens.weight', 'lm_head.weight'].\n"
          ]
        },
        {
          "output_type": "execute_result",
          "data": {
            "text/plain": [
              "('/content/fine_tuned_t5/tokenizer_config.json',\n",
              " '/content/fine_tuned_t5/special_tokens_map.json',\n",
              " '/content/fine_tuned_t5/spiece.model',\n",
              " '/content/fine_tuned_t5/added_tokens.json',\n",
              " '/content/fine_tuned_t5/tokenizer.json')"
            ]
          },
          "metadata": {},
          "execution_count": 47
        }
      ]
    },
    {
      "cell_type": "code",
      "source": [
        "from transformers import T5Tokenizer, T5ForConditionalGeneration\n",
        "\n",
        "# Load the fine-tuned model\n",
        "model_path = \"./fine_tuned_t5\"\n",
        "tokenizer = T5Tokenizer.from_pretrained(model_path)\n",
        "model = T5ForConditionalGeneration.from_pretrained(model_path)\n",
        "\n",
        "# Summarization function\n",
        "def summarize_email(email_body):\n",
        "    input_text = f\"summarize: {email_body}\"\n",
        "    inputs = tokenizer(input_text, return_tensors=\"pt\", max_length=512, truncation=True)\n",
        "    outputs = model.generate(inputs[\"input_ids\"], max_length=15, num_beams=4, early_stopping=True)\n",
        "    summary = tokenizer.decode(outputs[0], skip_special_tokens=True)\n",
        "    return summary\n",
        "\n",
        "# Example email body\n",
        "email_body = \"Your subscription will expire tomorrow. Renew your subscription now to continue enjoying premium features.\"\n",
        "summary = summarize_email(email_body)\n",
        "print(\"Summary:\", summary)\n"
      ],
      "metadata": {
        "colab": {
          "base_uri": "https://localhost:8080/"
        },
        "id": "n24ObkYYXAjU",
        "outputId": "f8dfa47c-5326-4c0b-bb8d-1ed2520a736d"
      },
      "execution_count": null,
      "outputs": [
        {
          "output_type": "stream",
          "name": "stderr",
          "text": [
            "You are using the default legacy behaviour of the <class 'transformers.models.t5.tokenization_t5.T5Tokenizer'>. This is expected, and simply means that the `legacy` (previous) behavior will be used so nothing changes for you. If you want to use the new behaviour, set `legacy=False`. This should only be set if you understand what it means, and thoroughly read the reason why this was added as explained in https://github.com/huggingface/transformers/pull/24565\n"
          ]
        },
        {
          "output_type": "stream",
          "name": "stdout",
          "text": [
            "Summary: renew your subscription now to continue enjoying premium features.\n"
          ]
        }
      ]
    },
    {
      "cell_type": "code",
      "source": [
        "import gradio as gr\n",
        "from datetime import datetime, timedelta\n",
        "import imaplib\n",
        "import email as email_lib\n",
        "from email.header import decode_header\n",
        "import re\n",
        "from transformers import pipeline\n",
        "import csv\n",
        "\n",
        "# Hugging Face text classification pipeline for categorization\n",
        "classifier = pipeline(\"text-classification\", model=\"distilbert-base-uncased-finetuned-sst-2-english\")\n",
        "\n",
        "# Hugging Face summarization pipeline\n",
        "summarizer = pipeline(\"summarization\", model=\"t5-small\")\n",
        "\n",
        "# Global state\n",
        "email_limit = 100\n",
        "daily_emails = []\n",
        "reset_time = datetime.now().replace(hour=23, minute=30, second=0)\n",
        "\n",
        "# Reset email limit at 11:30 PM\n",
        "def reset_email_limit():\n",
        "    global email_limit, daily_emails\n",
        "    if datetime.now() >= reset_time:\n",
        "        email_limit = 100\n",
        "        daily_emails = []\n",
        "\n",
        "# Categorize email using Hugging Face\n",
        "def categorize_email_hf(subject, body):\n",
        "    content = f\"Subject: {subject}\\nBody: {body[:500]}\"\n",
        "    result = classifier(content)[0]\n",
        "    if result['label'] == 'POSITIVE':\n",
        "        return \"Important\"\n",
        "    elif result['label'] == 'NEGATIVE':\n",
        "        return \"Spam\"\n",
        "    else:\n",
        "        return \"Other\"\n",
        "\n",
        "# Summarize body content if it's more than 20 words\n",
        "# Max length for the model input (tokens)\n",
        "MAX_LENGTH = 512\n",
        "\n",
        "# Summarize the body content if it's more than 20 words or too long\n",
        "def summarize_body(body):\n",
        "    words = body.split()\n",
        "\n",
        "    # If the body has more than 20 words, summarize\n",
        "    if len(words) > 20:\n",
        "        # Truncate or split if body is too long\n",
        "        if len(body.split()) > 1000:  # If the body has more than 1000 words, split it\n",
        "            chunks = [body[i:i+MAX_LENGTH] for i in range(0, len(body), MAX_LENGTH)]\n",
        "            summary = ''\n",
        "            for chunk in chunks:\n",
        "                summary += summarizer(chunk, max_length=50, min_length=25, do_sample=False)[0]['summary_text']\n",
        "            return summary\n",
        "        else:\n",
        "            # Summarize using Hugging Face summarizer\n",
        "            summary = summarizer(body, max_length=50, min_length=25, do_sample=False)[0]['summary_text']\n",
        "            return summary\n",
        "    else:\n",
        "        # If the body is short, return as is\n",
        "        return body\n",
        "\n",
        "\n",
        "# Fetch and categorize emails\n",
        "def fetch_emails(email_user, email_pass):\n",
        "    global email_limit, daily_emails\n",
        "\n",
        "    # Check daily limit\n",
        "    reset_email_limit()\n",
        "    if email_limit <= 0:\n",
        "        return \"Daily email limit reached. Try again tomorrow.\"\n",
        "\n",
        "    try:\n",
        "        # Connect to Gmail\n",
        "        mail = imaplib.IMAP4_SSL(\"imap.gmail.com\")\n",
        "        mail.login(email_user, email_pass)\n",
        "\n",
        "        # Select inbox\n",
        "        mail.select(\"inbox\")\n",
        "\n",
        "        # Filter today's emails\n",
        "        today = datetime.now().strftime(\"%d-%b-%Y\")\n",
        "        status, messages = mail.search(None, f'SINCE {today}')\n",
        "        email_ids = messages[0].split()\n",
        "\n",
        "        # Limit to available slots\n",
        "        limit = min(len(email_ids), email_limit)\n",
        "        emails = []\n",
        "        for email_id in email_ids[:limit]:\n",
        "            status, msg_data = mail.fetch(email_id, \"(RFC822)\")\n",
        "            for response_part in msg_data:\n",
        "                if isinstance(response_part, tuple):\n",
        "                    msg = email_lib.message_from_bytes(response_part[1])\n",
        "\n",
        "                    # Decode subject\n",
        "                    subject, encoding = decode_header(msg.get(\"Subject\"))[0]\n",
        "                    if isinstance(subject, bytes):\n",
        "                        subject = subject.decode(encoding if encoding else \"utf-8\")\n",
        "                    else:\n",
        "                        subject = subject or \"No Subject\"\n",
        "\n",
        "                    # Get sender\n",
        "                    from_ = msg.get(\"From\") or \"Unknown Sender\"\n",
        "\n",
        "                    # Extract body\n",
        "                    body = None\n",
        "                    if msg.is_multipart():\n",
        "                        for part in msg.walk():\n",
        "                            content_type = part.get_content_type()\n",
        "                            if content_type == \"text/plain\":\n",
        "                                body = part.get_payload(decode=True).decode(errors=\"ignore\")\n",
        "                                break\n",
        "                            elif content_type == \"text/html\" and not body:\n",
        "                                body = re.sub(r'<.*?>', '', part.get_payload(decode=True).decode(errors=\"ignore\"))\n",
        "                    else:\n",
        "                        body = msg.get_payload(decode=True).decode(errors=\"ignore\")\n",
        "\n",
        "                    body = body or \"No content available\"\n",
        "\n",
        "                    # Summarize body if more than 20 words\n",
        "                    body = summarize_body(body)\n",
        "\n",
        "                    # Categorize with Hugging Face\n",
        "                    category = categorize_email_hf(subject, body)\n",
        "\n",
        "                    email_data = {\n",
        "                        \"subject\": subject,\n",
        "                        \"from\": from_,\n",
        "                        \"category\": category,\n",
        "                        \"body\": body[:200]  # Limit to first 200 characters for display\n",
        "                    }\n",
        "                    emails.append(email_data)\n",
        "                    daily_emails.append(email_data)\n",
        "\n",
        "        email_limit -= len(emails)\n",
        "        return emails if emails else \"No emails found for today.\"\n",
        "\n",
        "    except Exception as e:\n",
        "        return f\"Error: {str(e)}\"\n",
        "\n",
        "# Save emails to file\n",
        "def save_to_file():\n",
        "    try:\n",
        "        with open(\"categorized_emails.csv\", \"w\", newline=\"\") as f:\n",
        "            writer = csv.DictWriter(f, fieldnames=[\"subject\", \"from\", \"category\", \"body\"])\n",
        "            writer.writeheader()\n",
        "            writer.writerows(daily_emails)\n",
        "        return \"Emails saved to 'categorized_emails.csv'.\"\n",
        "    except Exception as e:\n",
        "        return f\"Error: {str(e)}\"\n",
        "\n",
        "# Gradio UI\n",
        "def email_categorizer(email, password):\n",
        "    emails = fetch_emails(email, password)\n",
        "    if isinstance(emails, str):\n",
        "        return emails  # Return error or limit message\n",
        "    return \"\\n\\n\".join(\n",
        "        [f\"Subject: {email['subject']}\\nFrom: {email['from']}\\nCategory: {email['category']}\\nBody: {email['body']}\" for email in emails]\n",
        "    )\n",
        "\n",
        "# Search function\n",
        "def search_emails(keyword):\n",
        "    results = [email for email in daily_emails if keyword.lower() in email[\"subject\"].lower()]\n",
        "    if not results:\n",
        "        return \"No matching emails found.\"\n",
        "    return \"\\n\\n\".join(\n",
        "        [f\"Subject: {email['subject']}\\nFrom: {email['from']}\\nCategory: {email['category']}\\nBody: {email['body']}\" for email in results]\n",
        "    )\n",
        "\n",
        "# Gradio Blocks UI\n",
        "with gr.Blocks() as demo:\n",
        "    gr.Markdown(\"# Enhanced Email Categorizer with Hugging Face\")\n",
        "    gr.Markdown(\"Enter your email credentials to categorize today's emails.\")\n",
        "\n",
        "    with gr.Row():\n",
        "        email_input = gr.Textbox(label=\"Email Address\", placeholder=\"example@gmail.com\")\n",
        "        password_input = gr.Textbox(label=\"App Password\", type=\"password\", placeholder=\"Your app password\")\n",
        "\n",
        "    with gr.Row():\n",
        "        categorize_button = gr.Button(\"Fetch and Categorize Emails\")\n",
        "        save_button = gr.Button(\"Save Emails to File\")\n",
        "\n",
        "    output_box = gr.Textbox(label=\"Categorized Emails\", lines=20)\n",
        "\n",
        "    with gr.Row():\n",
        "        search_input = gr.Textbox(label=\"Search Emails by Keyword\")\n",
        "        search_button = gr.Button(\"Search\")\n",
        "        search_output = gr.Textbox(label=\"Search Results\", lines=10)\n",
        "\n",
        "    categorize_button.click(email_categorizer, inputs=[email_input, password_input], outputs=output_box)\n",
        "    save_button.click(save_to_file, inputs=[], outputs=output_box)\n",
        "    search_button.click(search_emails, inputs=[search_input], outputs=search_output)\n",
        "\n",
        "demo.launch(debug=True)\n"
      ],
      "metadata": {
        "colab": {
          "base_uri": "https://localhost:8080/",
          "height": 697
        },
        "id": "OcdnXRZRiNPN",
        "outputId": "273f8dbb-3a14-4d12-957d-cae16882b11c"
      },
      "execution_count": null,
      "outputs": [
        {
          "output_type": "stream",
          "name": "stdout",
          "text": [
            "Running Gradio in a Colab notebook requires sharing enabled. Automatically setting `share=True` (you can turn this off by setting `share=False` in `launch()` explicitly).\n",
            "\n",
            "Colab notebook detected. This cell will run indefinitely so that you can see errors and logs. To turn off, set debug=False in launch().\n",
            "* Running on public URL: https://b0ebf1255fa75a9ec2.gradio.live\n",
            "\n",
            "This share link expires in 72 hours. For free permanent hosting and GPU upgrades, run `gradio deploy` from the terminal in the working directory to deploy to Hugging Face Spaces (https://huggingface.co/spaces)\n"
          ]
        },
        {
          "output_type": "display_data",
          "data": {
            "text/plain": [
              "<IPython.core.display.HTML object>"
            ],
            "text/html": [
              "<div><iframe src=\"https://b0ebf1255fa75a9ec2.gradio.live\" width=\"100%\" height=\"500\" allow=\"autoplay; camera; microphone; clipboard-read; clipboard-write;\" frameborder=\"0\" allowfullscreen></iframe></div>"
            ]
          },
          "metadata": {}
        },
        {
          "output_type": "stream",
          "name": "stderr",
          "text": [
            "Token indices sequence length is longer than the specified maximum sequence length for this model (4563 > 512). Running this sequence through the model will result in indexing errors\n"
          ]
        },
        {
          "output_type": "stream",
          "name": "stdout",
          "text": [
            "Keyboard interruption in main thread... closing server.\n",
            "Killing tunnel 127.0.0.1:7861 <> https://b0ebf1255fa75a9ec2.gradio.live\n"
          ]
        },
        {
          "output_type": "execute_result",
          "data": {
            "text/plain": []
          },
          "metadata": {},
          "execution_count": 3
        }
      ]
    }
  ]
}